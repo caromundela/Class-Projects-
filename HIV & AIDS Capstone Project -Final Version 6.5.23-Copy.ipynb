{
 "cells": [
  {
   "cell_type": "code",
   "execution_count": 1,
   "metadata": {},
   "outputs": [],
   "source": [
    "# Capstone Research Questions\n",
    "# How has HIV/AIDS epidemic impacted the community throughout the years? \n",
    "# What is the trend of individuals being diagnosed with HIV and AIDS in NYC by demographics (age, race/ethnicity)? \n",
    "# What neighborhood is most impacted? What neighborhood(s) should we prioritize? \n"
   ]
  },
  {
   "cell_type": "code",
   "execution_count": 2,
   "metadata": {},
   "outputs": [],
   "source": [
    "#import tools \n",
    "import pandas as pd\n",
    "import numpy as np\n",
    "import matplotlib.pyplot as plt \n",
    "import matplotlib.pyplot as plot \n",
    "%matplotlib inline\n",
    "\n",
    "df= pd.read_csv('https://raw.githubusercontent.com/caromundela/Class-Projects-/main/HIV_AIDS_Diagnoses_by_Neighborhood__Age_Group__and_Race_Ethnicity.csv')"
   ]
  },
  {
   "cell_type": "code",
   "execution_count": 3,
   "metadata": {
    "scrolled": true
   },
   "outputs": [
    {
     "data": {
      "text/plain": [
       "['YEAR',\n",
       " 'NEIGHBORHOOD',\n",
       " 'RACE/ETHNICITY',\n",
       " 'AGE',\n",
       " 'TOTAL NUMBER OF HIV DIAGNOSES',\n",
       " 'HIV DIAGNOSES PER 100,000 POPULATION',\n",
       " 'TOTAL NUMBER OF CONCURRENT HIV/AIDS DIAGNOSES',\n",
       " 'PROPORTION OF CONCURRENT HIV/AIDS DIAGNOSES AMONG ALL HIV DIAGNOSES',\n",
       " 'TOTAL NUMBER OF AIDS DIAGNOSES',\n",
       " 'AIDS DIAGNOSES PER 100,000 POPULATION',\n",
       " 'Borough']"
      ]
     },
     "execution_count": 3,
     "metadata": {},
     "output_type": "execute_result"
    }
   ],
   "source": [
    "#display column names \n",
    "list(df.columns)"
   ]
  },
  {
   "cell_type": "code",
   "execution_count": 4,
   "metadata": {},
   "outputs": [
    {
     "data": {
      "text/plain": [
       "(21036, 11)"
      ]
     },
     "execution_count": 4,
     "metadata": {},
     "output_type": "execute_result"
    }
   ],
   "source": [
    "# identify num of rows and columns \n",
    "df.shape"
   ]
  },
  {
   "cell_type": "code",
   "execution_count": 5,
   "metadata": {},
   "outputs": [
    {
     "data": {
      "text/html": [
       "<div>\n",
       "<style scoped>\n",
       "    .dataframe tbody tr th:only-of-type {\n",
       "        vertical-align: middle;\n",
       "    }\n",
       "\n",
       "    .dataframe tbody tr th {\n",
       "        vertical-align: top;\n",
       "    }\n",
       "\n",
       "    .dataframe thead th {\n",
       "        text-align: right;\n",
       "    }\n",
       "</style>\n",
       "<table border=\"1\" class=\"dataframe\">\n",
       "  <thead>\n",
       "    <tr style=\"text-align: right;\">\n",
       "      <th></th>\n",
       "      <th>YEAR</th>\n",
       "      <th>NEIGHBORHOOD</th>\n",
       "      <th>RACE/ETHNICITY</th>\n",
       "      <th>AGE</th>\n",
       "      <th>TOTAL NUMBER OF HIV DIAGNOSES</th>\n",
       "      <th>HIV DIAGNOSES PER 100,000 POPULATION</th>\n",
       "      <th>TOTAL NUMBER OF CONCURRENT HIV/AIDS DIAGNOSES</th>\n",
       "      <th>PROPORTION OF CONCURRENT HIV/AIDS DIAGNOSES AMONG ALL HIV DIAGNOSES</th>\n",
       "      <th>TOTAL NUMBER OF AIDS DIAGNOSES</th>\n",
       "      <th>AIDS DIAGNOSES PER 100,000 POPULATION</th>\n",
       "      <th>Borough</th>\n",
       "    </tr>\n",
       "  </thead>\n",
       "  <tbody>\n",
       "    <tr>\n",
       "      <th>0</th>\n",
       "      <td>2013</td>\n",
       "      <td>High Bridge - Morrisania</td>\n",
       "      <td>Native American</td>\n",
       "      <td>30 - 39</td>\n",
       "      <td>0</td>\n",
       "      <td>0</td>\n",
       "      <td>0</td>\n",
       "      <td>0</td>\n",
       "      <td>0</td>\n",
       "      <td>0</td>\n",
       "      <td>NaN</td>\n",
       "    </tr>\n",
       "    <tr>\n",
       "      <th>1</th>\n",
       "      <td>2010</td>\n",
       "      <td>East Harlem</td>\n",
       "      <td>Unknown</td>\n",
       "      <td>40 - 49</td>\n",
       "      <td>0</td>\n",
       "      <td>NaN</td>\n",
       "      <td>0</td>\n",
       "      <td>NaN</td>\n",
       "      <td>0</td>\n",
       "      <td>NaN</td>\n",
       "      <td>NaN</td>\n",
       "    </tr>\n",
       "    <tr>\n",
       "      <th>2</th>\n",
       "      <td>2011</td>\n",
       "      <td>High Bridge - Morrisania</td>\n",
       "      <td>Unknown</td>\n",
       "      <td>40 - 49</td>\n",
       "      <td>0</td>\n",
       "      <td>NaN</td>\n",
       "      <td>0</td>\n",
       "      <td>NaN</td>\n",
       "      <td>0</td>\n",
       "      <td>NaN</td>\n",
       "      <td>NaN</td>\n",
       "    </tr>\n",
       "    <tr>\n",
       "      <th>3</th>\n",
       "      <td>2012</td>\n",
       "      <td>Greenwich Village - SoHo</td>\n",
       "      <td>Native American</td>\n",
       "      <td>50 - 59</td>\n",
       "      <td>0</td>\n",
       "      <td>0</td>\n",
       "      <td>0</td>\n",
       "      <td>0</td>\n",
       "      <td>0</td>\n",
       "      <td>0</td>\n",
       "      <td>NaN</td>\n",
       "    </tr>\n",
       "    <tr>\n",
       "      <th>4</th>\n",
       "      <td>2011</td>\n",
       "      <td>Long Island City - Astoria</td>\n",
       "      <td>Multiracial</td>\n",
       "      <td>20 - 29</td>\n",
       "      <td>0</td>\n",
       "      <td>0</td>\n",
       "      <td>0</td>\n",
       "      <td>0</td>\n",
       "      <td>0</td>\n",
       "      <td>0</td>\n",
       "      <td>NaN</td>\n",
       "    </tr>\n",
       "  </tbody>\n",
       "</table>\n",
       "</div>"
      ],
      "text/plain": [
       "   YEAR                NEIGHBORHOOD   RACE/ETHNICITY      AGE  \\\n",
       "0  2013    High Bridge - Morrisania  Native American  30 - 39   \n",
       "1  2010                 East Harlem          Unknown  40 - 49   \n",
       "2  2011    High Bridge - Morrisania          Unknown  40 - 49   \n",
       "3  2012    Greenwich Village - SoHo  Native American  50 - 59   \n",
       "4  2011  Long Island City - Astoria      Multiracial  20 - 29   \n",
       "\n",
       "  TOTAL NUMBER OF HIV DIAGNOSES HIV DIAGNOSES PER 100,000 POPULATION  \\\n",
       "0                             0                                    0   \n",
       "1                             0                                  NaN   \n",
       "2                             0                                  NaN   \n",
       "3                             0                                    0   \n",
       "4                             0                                    0   \n",
       "\n",
       "  TOTAL NUMBER OF CONCURRENT HIV/AIDS DIAGNOSES  \\\n",
       "0                                             0   \n",
       "1                                             0   \n",
       "2                                             0   \n",
       "3                                             0   \n",
       "4                                             0   \n",
       "\n",
       "  PROPORTION OF CONCURRENT HIV/AIDS DIAGNOSES AMONG ALL HIV DIAGNOSES  \\\n",
       "0                                                  0                    \n",
       "1                                                NaN                    \n",
       "2                                                NaN                    \n",
       "3                                                  0                    \n",
       "4                                                  0                    \n",
       "\n",
       "  TOTAL NUMBER OF AIDS DIAGNOSES AIDS DIAGNOSES PER 100,000 POPULATION Borough  \n",
       "0                              0                                     0     NaN  \n",
       "1                              0                                   NaN     NaN  \n",
       "2                              0                                   NaN     NaN  \n",
       "3                              0                                     0     NaN  \n",
       "4                              0                                     0     NaN  "
      ]
     },
     "execution_count": 5,
     "metadata": {},
     "output_type": "execute_result"
    }
   ],
   "source": [
    "# view data\n",
    "df.head(5)"
   ]
  },
  {
   "cell_type": "code",
   "execution_count": 6,
   "metadata": {},
   "outputs": [
    {
     "data": {
      "text/plain": [
       "YEAR                          0\n",
       "NEIGHBORHOOD                  0\n",
       "RACE                          0\n",
       "AGE                           0\n",
       "HIV DIAGNOSES               101\n",
       "HIV PER 10K POPULATION     1477\n",
       "TOTAL NUM OF HIV/AIDS        25\n",
       "PROPORTION OF HIV/AIDS     7464\n",
       "AIDS DIAGNOSES               76\n",
       "AIDS PER 10K POPULATION    1452\n",
       "Borough                    8604\n",
       "dtype: int64"
      ]
     },
     "execution_count": 6,
     "metadata": {},
     "output_type": "execute_result"
    }
   ],
   "source": [
    "# rename the columns and drop columns \n",
    "df= df.rename(columns={'RACE/ETHNICITY': 'RACE', 'TOTAL NUMBER OF HIV DIAGNOSES': 'HIV DIAGNOSES', 'HIV DIAGNOSES PER 100,000 POPULATION':'HIV PER 10K POPULATION', 'TOTAL NUMBER OF CONCURRENT HIV/AIDS DIAGNOSES': 'TOTAL NUM OF HIV/AIDS','PROPORTION OF CONCURRENT HIV/AIDS DIAGNOSES AMONG ALL HIV DIAGNOSES': 'PROPORTION OF HIV/AIDS', 'TOTAL NUMBER OF AIDS DIAGNOSES': 'AIDS DIAGNOSES', 'AIDS DIAGNOSES PER 100,000 POPULATION': 'AIDS PER 10K POPULATION'})\n",
    "df.isnull().sum()"
   ]
  },
  {
   "cell_type": "code",
   "execution_count": 7,
   "metadata": {},
   "outputs": [
    {
     "data": {
      "text/html": [
       "<div>\n",
       "<style scoped>\n",
       "    .dataframe tbody tr th:only-of-type {\n",
       "        vertical-align: middle;\n",
       "    }\n",
       "\n",
       "    .dataframe tbody tr th {\n",
       "        vertical-align: top;\n",
       "    }\n",
       "\n",
       "    .dataframe thead th {\n",
       "        text-align: right;\n",
       "    }\n",
       "</style>\n",
       "<table border=\"1\" class=\"dataframe\">\n",
       "  <thead>\n",
       "    <tr style=\"text-align: right;\">\n",
       "      <th></th>\n",
       "      <th>YEAR</th>\n",
       "      <th>NEIGHBORHOOD</th>\n",
       "      <th>RACE</th>\n",
       "      <th>AGE</th>\n",
       "      <th>HIV DIAGNOSES</th>\n",
       "      <th>AIDS DIAGNOSES</th>\n",
       "    </tr>\n",
       "  </thead>\n",
       "  <tbody>\n",
       "    <tr>\n",
       "      <th>0</th>\n",
       "      <td>2013</td>\n",
       "      <td>High Bridge - Morrisania</td>\n",
       "      <td>Native American</td>\n",
       "      <td>30 - 39</td>\n",
       "      <td>0</td>\n",
       "      <td>0</td>\n",
       "    </tr>\n",
       "    <tr>\n",
       "      <th>1</th>\n",
       "      <td>2010</td>\n",
       "      <td>East Harlem</td>\n",
       "      <td>Unknown</td>\n",
       "      <td>40 - 49</td>\n",
       "      <td>0</td>\n",
       "      <td>0</td>\n",
       "    </tr>\n",
       "    <tr>\n",
       "      <th>2</th>\n",
       "      <td>2011</td>\n",
       "      <td>High Bridge - Morrisania</td>\n",
       "      <td>Unknown</td>\n",
       "      <td>40 - 49</td>\n",
       "      <td>0</td>\n",
       "      <td>0</td>\n",
       "    </tr>\n",
       "    <tr>\n",
       "      <th>3</th>\n",
       "      <td>2012</td>\n",
       "      <td>Greenwich Village - SoHo</td>\n",
       "      <td>Native American</td>\n",
       "      <td>50 - 59</td>\n",
       "      <td>0</td>\n",
       "      <td>0</td>\n",
       "    </tr>\n",
       "    <tr>\n",
       "      <th>4</th>\n",
       "      <td>2011</td>\n",
       "      <td>Long Island City - Astoria</td>\n",
       "      <td>Multiracial</td>\n",
       "      <td>20 - 29</td>\n",
       "      <td>0</td>\n",
       "      <td>0</td>\n",
       "    </tr>\n",
       "  </tbody>\n",
       "</table>\n",
       "</div>"
      ],
      "text/plain": [
       "   YEAR                NEIGHBORHOOD             RACE      AGE HIV DIAGNOSES  \\\n",
       "0  2013    High Bridge - Morrisania  Native American  30 - 39             0   \n",
       "1  2010                 East Harlem          Unknown  40 - 49             0   \n",
       "2  2011    High Bridge - Morrisania          Unknown  40 - 49             0   \n",
       "3  2012    Greenwich Village - SoHo  Native American  50 - 59             0   \n",
       "4  2011  Long Island City - Astoria      Multiracial  20 - 29             0   \n",
       "\n",
       "  AIDS DIAGNOSES  \n",
       "0              0  \n",
       "1              0  \n",
       "2              0  \n",
       "3              0  \n",
       "4              0  "
      ]
     },
     "execution_count": 7,
     "metadata": {},
     "output_type": "execute_result"
    }
   ],
   "source": [
    "# drop select columns \n",
    "drop_cols =['HIV PER 10K POPULATION','TOTAL NUM OF HIV/AIDS','PROPORTION OF HIV/AIDS', 'AIDS PER 10K POPULATION', 'Borough']\n",
    "df.drop(drop_cols, inplace =True, axis=1)\n",
    "df.head(5)"
   ]
  },
  {
   "cell_type": "code",
   "execution_count": 8,
   "metadata": {},
   "outputs": [
    {
     "data": {
      "text/html": [
       "<div>\n",
       "<style scoped>\n",
       "    .dataframe tbody tr th:only-of-type {\n",
       "        vertical-align: middle;\n",
       "    }\n",
       "\n",
       "    .dataframe tbody tr th {\n",
       "        vertical-align: top;\n",
       "    }\n",
       "\n",
       "    .dataframe thead th {\n",
       "        text-align: right;\n",
       "    }\n",
       "</style>\n",
       "<table border=\"1\" class=\"dataframe\">\n",
       "  <thead>\n",
       "    <tr style=\"text-align: right;\">\n",
       "      <th></th>\n",
       "      <th>YEAR</th>\n",
       "      <th>NEIGHBORHOOD</th>\n",
       "      <th>RACE</th>\n",
       "      <th>AGE</th>\n",
       "      <th>HIV DIAGNOSES</th>\n",
       "      <th>AIDS DIAGNOSES</th>\n",
       "    </tr>\n",
       "  </thead>\n",
       "  <tbody>\n",
       "    <tr>\n",
       "      <th>0</th>\n",
       "      <td>2013</td>\n",
       "      <td>High Bridge - Morrisania</td>\n",
       "      <td>Native American</td>\n",
       "      <td>30 - 39</td>\n",
       "      <td>0</td>\n",
       "      <td>0</td>\n",
       "    </tr>\n",
       "    <tr>\n",
       "      <th>1</th>\n",
       "      <td>2010</td>\n",
       "      <td>East Harlem</td>\n",
       "      <td>Unknown</td>\n",
       "      <td>40 - 49</td>\n",
       "      <td>0</td>\n",
       "      <td>0</td>\n",
       "    </tr>\n",
       "    <tr>\n",
       "      <th>2</th>\n",
       "      <td>2011</td>\n",
       "      <td>High Bridge - Morrisania</td>\n",
       "      <td>Unknown</td>\n",
       "      <td>40 - 49</td>\n",
       "      <td>0</td>\n",
       "      <td>0</td>\n",
       "    </tr>\n",
       "    <tr>\n",
       "      <th>3</th>\n",
       "      <td>2012</td>\n",
       "      <td>Greenwich Village - SoHo</td>\n",
       "      <td>Native American</td>\n",
       "      <td>50 - 59</td>\n",
       "      <td>0</td>\n",
       "      <td>0</td>\n",
       "    </tr>\n",
       "    <tr>\n",
       "      <th>4</th>\n",
       "      <td>2011</td>\n",
       "      <td>Long Island City - Astoria</td>\n",
       "      <td>Multiracial</td>\n",
       "      <td>20 - 29</td>\n",
       "      <td>0</td>\n",
       "      <td>0</td>\n",
       "    </tr>\n",
       "    <tr>\n",
       "      <th>...</th>\n",
       "      <td>...</td>\n",
       "      <td>...</td>\n",
       "      <td>...</td>\n",
       "      <td>...</td>\n",
       "      <td>...</td>\n",
       "      <td>...</td>\n",
       "    </tr>\n",
       "    <tr>\n",
       "      <th>21030</th>\n",
       "      <td>2021</td>\n",
       "      <td>Willowbrook</td>\n",
       "      <td>Asian/Pacific\\nIslander</td>\n",
       "      <td>60+</td>\n",
       "      <td>0</td>\n",
       "      <td>0</td>\n",
       "    </tr>\n",
       "    <tr>\n",
       "      <th>21031</th>\n",
       "      <td>2021</td>\n",
       "      <td>Willowbrook</td>\n",
       "      <td>Black</td>\n",
       "      <td>60+</td>\n",
       "      <td>0</td>\n",
       "      <td>0</td>\n",
       "    </tr>\n",
       "    <tr>\n",
       "      <th>21032</th>\n",
       "      <td>2021</td>\n",
       "      <td>Willowbrook</td>\n",
       "      <td>Latino/Hispanic</td>\n",
       "      <td>60+</td>\n",
       "      <td>0</td>\n",
       "      <td>0</td>\n",
       "    </tr>\n",
       "    <tr>\n",
       "      <th>21034</th>\n",
       "      <td>2021</td>\n",
       "      <td>Willowbrook</td>\n",
       "      <td>White</td>\n",
       "      <td>60+</td>\n",
       "      <td>0</td>\n",
       "      <td>1</td>\n",
       "    </tr>\n",
       "    <tr>\n",
       "      <th>21035</th>\n",
       "      <td>2021</td>\n",
       "      <td>Willowbrook</td>\n",
       "      <td>All</td>\n",
       "      <td>All</td>\n",
       "      <td>4</td>\n",
       "      <td>4</td>\n",
       "    </tr>\n",
       "  </tbody>\n",
       "</table>\n",
       "<p>20894 rows × 6 columns</p>\n",
       "</div>"
      ],
      "text/plain": [
       "       YEAR                NEIGHBORHOOD                     RACE      AGE  \\\n",
       "0      2013    High Bridge - Morrisania          Native American  30 - 39   \n",
       "1      2010                 East Harlem                  Unknown  40 - 49   \n",
       "2      2011    High Bridge - Morrisania                  Unknown  40 - 49   \n",
       "3      2012    Greenwich Village - SoHo          Native American  50 - 59   \n",
       "4      2011  Long Island City - Astoria              Multiracial  20 - 29   \n",
       "...     ...                         ...                      ...      ...   \n",
       "21030  2021                 Willowbrook  Asian/Pacific\\nIslander      60+   \n",
       "21031  2021                 Willowbrook                    Black      60+   \n",
       "21032  2021                 Willowbrook          Latino/Hispanic      60+   \n",
       "21034  2021                 Willowbrook                    White      60+   \n",
       "21035  2021                 Willowbrook                      All      All   \n",
       "\n",
       "      HIV DIAGNOSES AIDS DIAGNOSES  \n",
       "0                 0              0  \n",
       "1                 0              0  \n",
       "2                 0              0  \n",
       "3                 0              0  \n",
       "4                 0              0  \n",
       "...             ...            ...  \n",
       "21030             0              0  \n",
       "21031             0              0  \n",
       "21032             0              0  \n",
       "21034             0              1  \n",
       "21035             4              4  \n",
       "\n",
       "[20894 rows x 6 columns]"
      ]
     },
     "execution_count": 8,
     "metadata": {},
     "output_type": "execute_result"
    }
   ],
   "source": [
    "# clean & drop data that has missing values  \n",
    "df.dropna()"
   ]
  },
  {
   "cell_type": "code",
   "execution_count": 11,
   "metadata": {},
   "outputs": [
    {
     "data": {
      "text/plain": [
       "YEAR              2015.763548\n",
       "HIV DIAGNOSES        7.363990\n",
       "AIDS DIAGNOSES       4.760402\n",
       "dtype: float64"
      ]
     },
     "execution_count": 11,
     "metadata": {},
     "output_type": "execute_result"
    }
   ],
   "source": [
    "# look at the average of HIV and AIDS diagnoses \n",
    "df.mean()"
   ]
  },
  {
   "cell_type": "code",
   "execution_count": 12,
   "metadata": {},
   "outputs": [
    {
     "data": {
      "text/plain": [
       "YEAR              2015.763548\n",
       "HIV DIAGNOSES        7.363990\n",
       "AIDS DIAGNOSES       4.760402\n",
       "dtype: float64"
      ]
     },
     "execution_count": 12,
     "metadata": {},
     "output_type": "execute_result"
    }
   ],
   "source": [
    "# data tidying in order to redo average \n",
    "df['HIV DIAGNOSES']= pd.to_numeric(df['HIV DIAGNOSES'], errors ='coerce')\n",
    "df['AIDS DIAGNOSES']= pd.to_numeric(df['AIDS DIAGNOSES'], errors ='coerce')\n",
    "df.mean()"
   ]
  },
  {
   "cell_type": "code",
   "execution_count": 13,
   "metadata": {},
   "outputs": [
    {
     "data": {
      "text/plain": [
       "YEAR\n",
       "2010    2126\n",
       "2011    2127\n",
       "2012    2131\n",
       "2013    2107\n",
       "2016    1755\n",
       "2017    1756\n",
       "2018    1764\n",
       "2019    1763\n",
       "2020    3529\n",
       "2021    1764\n",
       "Name: HIV DIAGNOSES, dtype: int64"
      ]
     },
     "execution_count": 13,
     "metadata": {},
     "output_type": "execute_result"
    }
   ],
   "source": [
    "# What is the trend of patients being diagnosed with HIV in NYC throughout the years? \n",
    "df.groupby(['YEAR'])['HIV DIAGNOSES'].count()"
   ]
  },
  {
   "cell_type": "code",
   "execution_count": 14,
   "metadata": {},
   "outputs": [
    {
     "data": {
      "text/plain": [
       "<AxesSubplot:xlabel='YEAR'>"
      ]
     },
     "execution_count": 14,
     "metadata": {},
     "output_type": "execute_result"
    },
    {
     "data": {
      "image/png": "[encoded data removed]",
      "text/plain": [
       "<Figure size 432x288 with 1 Axes>"
      ]
     },
     "metadata": {
      "needs_background": "light"
     },
     "output_type": "display_data"
    }
   ],
   "source": [
    "# VISUALIZE HIV DIAGNOSES BY YEAR \n",
    "df.groupby(['YEAR'])['HIV DIAGNOSES'].count().plot(kind='bar')"
   ]
  },
  {
   "cell_type": "code",
   "execution_count": 15,
   "metadata": {},
   "outputs": [
    {
     "data": {
      "text/plain": [
       "YEAR\n",
       "2010    2132\n",
       "2011    2132\n",
       "2012    2132\n",
       "2013    2133\n",
       "2016    1765\n",
       "2017    1764\n",
       "2018    1771\n",
       "2019    1765\n",
       "2020    3529\n",
       "2021    1762\n",
       "Name: AIDS DIAGNOSES, dtype: int64"
      ]
     },
     "execution_count": 15,
     "metadata": {},
     "output_type": "execute_result"
    }
   ],
   "source": [
    "# What is the trend of patients being diagnosed with AIDS in NYC throughout the years? \n",
    "df.groupby(['YEAR'])['AIDS DIAGNOSES'].count()"
   ]
  },
  {
   "cell_type": "code",
   "execution_count": 16,
   "metadata": {},
   "outputs": [
    {
     "data": {
      "text/plain": [
       "<AxesSubplot:xlabel='YEAR'>"
      ]
     },
     "execution_count": 16,
     "metadata": {},
     "output_type": "execute_result"
    },
    {
     "data": {
      "image/png": "[encoded data removed]",
      "text/plain": [
       "<Figure size 432x288 with 1 Axes>"
      ]
     },
     "metadata": {
      "needs_background": "light"
     },
     "output_type": "display_data"
    }
   ],
   "source": [
    "# VISUALIZE AIDS DIAGNOSES BY YEAR\n",
    "df.groupby(['YEAR'])['AIDS DIAGNOSES'].count().plot(kind='bar')"
   ]
  },
  {
   "cell_type": "code",
   "execution_count": null,
   "metadata": {},
   "outputs": [],
   "source": [
    "# creating graph looking at HIV & AIDS between 2017-2021 \n",
    "df = pd.DataFrame({\n",
    "    'YEAR': ['2017', '2018', '2019', '2020', '2021'],\n",
    "    'HIV': [1756, 1764, 1763, 3529, 1764],\n",
    "    'AIDS': [1764, 1771, 1765, 3529, 1762]\n",
    "})\n",
    "  \n",
    "# plotting graph\n",
    "df.plot(x=\"YEAR\", y=[\"HIV\", \"AIDS\"], kind=\"bar\")"
   ]
  },
  {
   "cell_type": "code",
   "execution_count": 17,
   "metadata": {},
   "outputs": [
    {
     "data": {
      "image/png": "[encoded data removed]",
      "text/plain": [
       "<Figure size 432x288 with 1 Axes>"
      ]
     },
     "metadata": {
      "needs_background": "light"
     },
     "output_type": "display_data"
    }
   ],
   "source": [
    "# creating graph looking at HIV & AIDS between 2017-2021 \n",
    "import matplotlib.pyplot as plt\n",
    "import numpy as np\n",
    "\n",
    "# create sample dataset\n",
    "data = np.array([[1755, 1756, 1764, 1763, 3529, 1764], [1765, 1764, 1771, 1765, 3529, 1762]])\n",
    "\n",
    "# define labels and groups\n",
    "labels = ['HIV', 'AIDS']\n",
    "YEAR = ['2016','2017', '2018', '2019', '2020', '2021']\n",
    "\n",
    "# define figure and axis objects\n",
    "fig, ax = plt.subplots()\n",
    "\n",
    "# plot the grouped bar chart, add colors \n",
    "width = 0.45\n",
    "x = np.arange(len(YEAR))\n",
    "ax.bar(x - width/2, data[0], width, label=labels[0], color = 'teal')\n",
    "ax.bar(x + width/2, data[1], width, label=labels[1], color = 'magenta')\n",
    "\n",
    "# add text annotations to each bar, change font size\n",
    "for i, j in enumerate(data):\n",
    "   for x_val, y_val in zip(x, j):\n",
    "      ax.annotate(str(y_val), xy=(x_val+i*width-width/2, y_val), ha='center', va='bottom', fontsize = 8)\n",
    "        \n",
    "\n",
    "# add labels and legend\n",
    "ax.set_xticks(x)\n",
    "ax.set_xticklabels(YEAR)\n",
    "ax.set_xlabel('YEAR')\n",
    "ax.set_ylabel('TOTAL NUM')\n",
    "ax.set_title(\"Rate of HIV & AIDS from 2016-2021\", fontsize = 18)\n",
    "ax.legend()\n",
    "plt.show()"
   ]
  },
  {
   "cell_type": "code",
   "execution_count": 10,
   "metadata": {},
   "outputs": [
    {
     "data": {
      "text/html": [
       "<div>\n",
       "<style scoped>\n",
       "    .dataframe tbody tr th:only-of-type {\n",
       "        vertical-align: middle;\n",
       "    }\n",
       "\n",
       "    .dataframe tbody tr th {\n",
       "        vertical-align: top;\n",
       "    }\n",
       "\n",
       "    .dataframe thead th {\n",
       "        text-align: right;\n",
       "    }\n",
       "</style>\n",
       "<table border=\"1\" class=\"dataframe\">\n",
       "  <thead>\n",
       "    <tr style=\"text-align: right;\">\n",
       "      <th></th>\n",
       "      <th>YEAR</th>\n",
       "      <th>NEIGHBORHOOD</th>\n",
       "      <th>RACE</th>\n",
       "      <th>AGE</th>\n",
       "      <th>HIV DIAGNOSES</th>\n",
       "      <th>AIDS DIAGNOSES</th>\n",
       "    </tr>\n",
       "  </thead>\n",
       "  <tbody>\n",
       "    <tr>\n",
       "      <th>0</th>\n",
       "      <td>2013</td>\n",
       "      <td>High Bridge - Morrisania</td>\n",
       "      <td>Native American</td>\n",
       "      <td>30 - 39</td>\n",
       "      <td>0.0</td>\n",
       "      <td>0.0</td>\n",
       "    </tr>\n",
       "    <tr>\n",
       "      <th>1</th>\n",
       "      <td>2010</td>\n",
       "      <td>East Harlem</td>\n",
       "      <td>Unknown</td>\n",
       "      <td>40 - 49</td>\n",
       "      <td>0.0</td>\n",
       "      <td>0.0</td>\n",
       "    </tr>\n",
       "    <tr>\n",
       "      <th>2</th>\n",
       "      <td>2011</td>\n",
       "      <td>High Bridge - Morrisania</td>\n",
       "      <td>Unknown</td>\n",
       "      <td>40 - 49</td>\n",
       "      <td>0.0</td>\n",
       "      <td>0.0</td>\n",
       "    </tr>\n",
       "    <tr>\n",
       "      <th>3</th>\n",
       "      <td>2012</td>\n",
       "      <td>Greenwich Village - SoHo</td>\n",
       "      <td>Native American</td>\n",
       "      <td>50 - 59</td>\n",
       "      <td>0.0</td>\n",
       "      <td>0.0</td>\n",
       "    </tr>\n",
       "    <tr>\n",
       "      <th>4</th>\n",
       "      <td>2011</td>\n",
       "      <td>Long Island City - Astoria</td>\n",
       "      <td>Multiracial</td>\n",
       "      <td>20 - 29</td>\n",
       "      <td>0.0</td>\n",
       "      <td>0.0</td>\n",
       "    </tr>\n",
       "  </tbody>\n",
       "</table>\n",
       "</div>"
      ],
      "text/plain": [
       "   YEAR                NEIGHBORHOOD             RACE      AGE  HIV DIAGNOSES  \\\n",
       "0  2013    High Bridge - Morrisania  Native American  30 - 39            0.0   \n",
       "1  2010                 East Harlem          Unknown  40 - 49            0.0   \n",
       "2  2011    High Bridge - Morrisania          Unknown  40 - 49            0.0   \n",
       "3  2012    Greenwich Village - SoHo  Native American  50 - 59            0.0   \n",
       "4  2011  Long Island City - Astoria      Multiracial  20 - 29            0.0   \n",
       "\n",
       "   AIDS DIAGNOSES  \n",
       "0             0.0  \n",
       "1             0.0  \n",
       "2             0.0  \n",
       "3             0.0  \n",
       "4             0.0  "
      ]
     },
     "execution_count": 10,
     "metadata": {},
     "output_type": "execute_result"
    }
   ],
   "source": [
    "#create a new dataframe \n",
    "df2= df[['YEAR', 'NEIGHBORHOOD','RACE', 'AGE', 'HIV DIAGNOSES', 'AIDS DIAGNOSES']]\n",
    "df2.head(5)"
   ]
  },
  {
   "cell_type": "code",
   "execution_count": 18,
   "metadata": {},
   "outputs": [
    {
     "data": {
      "text/plain": [
       "NEIGHBORHOOD\n",
       "All                                      1558\n",
       "Borough Park                              459\n",
       "Williamsburg - Bushwick                   459\n",
       "Southeast Queens                          459\n",
       "Jamaica                                   459\n",
       "Fresh Meadows                             459\n",
       "Kingsbridge - Riverdale                   459\n",
       "West Queens                               459\n",
       "East Flatbush - Flatbush                  458\n",
       "Long Island City - Astoria                458\n",
       "Pelham - Throgs Neck                      458\n",
       "Stapleton - St. George                    457\n",
       "Southwest Queens                          457\n",
       "Ridgewood - Forest Hills                  456\n",
       "Port Richmond                             456\n",
       "Canarsie - Flatlands                      456\n",
       "Fordham - Bronx Park                      456\n",
       "East Harlem                               456\n",
       "Bayside - Little Neck                     456\n",
       "Rockaway                                  455\n",
       "Chelsea - Clinton                         454\n",
       "Northeast Bronx                           454\n",
       "Greenpoint                                453\n",
       "Bensonhurst - Bay Ridge                   453\n",
       "Flushing - Clearview                      452\n",
       "Willowbrook                               452\n",
       "Sunset Park                               452\n",
       "East New York                             451\n",
       "Crotona - Tremont                         450\n",
       "South Beach - Tottenville                 446\n",
       "High Bridge - Morrisania                  443\n",
       "Lower Manhattan                           441\n",
       "Hunts Point - Mott Haven                  436\n",
       "Coney Island -\\nSheepshead Bay            259\n",
       "Union Square - Lower\\nEast Side           259\n",
       "Bedford Stuyvesant -\\nCrown Heights       259\n",
       "Central Harlem -\\nMorningside Heights     259\n",
       "Washington Heights -\\nInwood              258\n",
       "Downtown - Heights -\\nPark Slope          258\n",
       "Upper West Side                           257\n",
       "Upper East Side                           256\n",
       "Gramercy Park - Murray\\nHill              256\n",
       "Greenwich Village - Soho                  238\n",
       "Coney Island - Sheepshead Bay             200\n",
       "Unknown                                   200\n",
       "Upper Eastside                            199\n",
       "Gramercy Park - Murray Hill               199\n",
       "Bedford Stuyvesant - Crown Heights        199\n",
       "Downtown - Heights - Park Slope           198\n",
       "Central Harlem - Morningside Heights      198\n",
       "Upper Westside                            198\n",
       "Union Square - Lower Eastside             198\n",
       "Washington Heights - Inwood               198\n",
       "Greenwich Village - SoHo                  189\n",
       "Name: HIV DIAGNOSES, dtype: int64"
      ]
     },
     "execution_count": 18,
     "metadata": {},
     "output_type": "execute_result"
    }
   ],
   "source": [
    "#view by neighborhood \n",
    "df2.groupby(['NEIGHBORHOOD'])['HIV DIAGNOSES'].count().sort_values(ascending=False)"
   ]
  },
  {
   "cell_type": "code",
   "execution_count": 19,
   "metadata": {},
   "outputs": [
    {
     "data": {
      "text/plain": [
       "RACE\n",
       "All                        2528\n",
       "Asian/Pacific\\nIslander    2012\n",
       "Asian/Pacific Islander     1197\n",
       "Black                      3137\n",
       "Hispanic                   1202\n",
       "Latino/Hispanic            2013\n",
       "Multiracial                1172\n",
       "Native American            1188\n",
       "Other/Unknown              1981\n",
       "Unknown                    1204\n",
       "White                      3188\n",
       "Name: HIV DIAGNOSES, dtype: int64"
      ]
     },
     "execution_count": 19,
     "metadata": {},
     "output_type": "execute_result"
    }
   ],
   "source": [
    "#group by race \n",
    "df2.groupby(['RACE'])['HIV DIAGNOSES'].count()"
   ]
  },
  {
   "cell_type": "code",
   "execution_count": 20,
   "metadata": {},
   "outputs": [
    {
     "data": {
      "text/plain": [
       "AGE\n",
       "0 - 19      1201\n",
       "13 -\\n19    2000\n",
       "20 -\\n29    1993\n",
       "20 - 29     1180\n",
       "30 -\\n39    1997\n",
       "30 - 39     1182\n",
       "40 -\\n49    1998\n",
       "40 - 49     1174\n",
       "50 -\\n59    1998\n",
       "50 - 59     1184\n",
       "60+         3204\n",
       "All         1711\n",
       "Name: HIV DIAGNOSES, dtype: int64"
      ]
     },
     "execution_count": 20,
     "metadata": {},
     "output_type": "execute_result"
    }
   ],
   "source": [
    "#Age range & number of HIV Diagnoses \n",
    "df2.groupby(['AGE'])['HIV DIAGNOSES'].count()"
   ]
  },
  {
   "cell_type": "code",
   "execution_count": 21,
   "metadata": {},
   "outputs": [
    {
     "data": {
      "text/plain": [
       "AGE\n",
       "0 - 19      1204\n",
       "13 -\\n19    2015\n",
       "20 -\\n29    2003\n",
       "20 - 29     1197\n",
       "30 -\\n39    1998\n",
       "30 - 39     1189\n",
       "40 -\\n49    1996\n",
       "40 - 49     1180\n",
       "50 -\\n59    1995\n",
       "50 - 59     1186\n",
       "60+         3212\n",
       "All         1710\n",
       "Name: AIDS DIAGNOSES, dtype: int64"
      ]
     },
     "execution_count": 21,
     "metadata": {},
     "output_type": "execute_result"
    }
   ],
   "source": [
    "#Age range & number of AIDS Diagnoses \n",
    "df2.groupby(['AGE'])['AIDS DIAGNOSES'].count()"
   ]
  },
  {
   "cell_type": "code",
   "execution_count": 22,
   "metadata": {},
   "outputs": [
    {
     "data": {
      "text/plain": [
       "AGE\n",
       "0 - 19       0.153654\n",
       "13 -\\n19     0.219851\n",
       "20 -\\n29     3.349476\n",
       "20 - 29      1.352548\n",
       "30 -\\n39     5.868368\n",
       "30 - 39      1.656013\n",
       "40 -\\n49     4.348196\n",
       "40 - 49      2.143220\n",
       "50 -\\n59     4.637093\n",
       "50 - 59      1.396290\n",
       "60+          2.155355\n",
       "All         27.914035\n",
       "Name: AIDS DIAGNOSES, dtype: float64"
      ]
     },
     "execution_count": 22,
     "metadata": {},
     "output_type": "execute_result"
    }
   ],
   "source": [
    "#Age range & number of AIDS Diagnoses \n",
    "df2.groupby(['AGE'])['AIDS DIAGNOSES'].mean()"
   ]
  },
  {
   "cell_type": "code",
   "execution_count": 23,
   "metadata": {},
   "outputs": [
    {
     "data": {
      "text/plain": [
       "AGE\n",
       "0 - 19       0.482931\n",
       "13 -\\n19     1.285500\n",
       "20 -\\n29    12.174109\n",
       "20 - 29      3.483898\n",
       "30 -\\n39     9.988983\n",
       "30 - 39      2.478849\n",
       "40 -\\n49     5.103604\n",
       "40 - 49      2.231687\n",
       "50 -\\n59     4.093093\n",
       "50 - 59      1.192568\n",
       "60+          1.454744\n",
       "All         42.000000\n",
       "Name: HIV DIAGNOSES, dtype: float64"
      ]
     },
     "execution_count": 23,
     "metadata": {},
     "output_type": "execute_result"
    }
   ],
   "source": [
    "#Age range & number of AIDS Diagnoses \n",
    "df2.groupby(['AGE'])['HIV DIAGNOSES'].mean()"
   ]
  },
  {
   "cell_type": "code",
   "execution_count": 24,
   "metadata": {},
   "outputs": [
    {
     "data": {
      "text/plain": [
       "RACE\n",
       "All                        2528\n",
       "Asian/Pacific\\nIslander    2009\n",
       "Asian/Pacific Islander     1200\n",
       "Black                      3169\n",
       "Hispanic                   1203\n",
       "Latino/Hispanic            2014\n",
       "Multiracial                1194\n",
       "Native American            1188\n",
       "Other/Unknown              1984\n",
       "Unknown                    1204\n",
       "White                      3192\n",
       "Name: AIDS DIAGNOSES, dtype: int64"
      ]
     },
     "execution_count": 24,
     "metadata": {},
     "output_type": "execute_result"
    }
   ],
   "source": [
    "#group by race \n",
    "df2.groupby(['RACE'])['AIDS DIAGNOSES'].count()"
   ]
  },
  {
   "cell_type": "code",
   "execution_count": 25,
   "metadata": {},
   "outputs": [
    {
     "data": {
      "image/png": "[encoded data removed]",
      "text/plain": [
       "<Figure size 432x288 with 1 Axes>"
      ]
     },
     "metadata": {
      "needs_background": "light"
     },
     "output_type": "display_data"
    }
   ],
   "source": [
    "#Visualize age range and HIV diagnoses \n",
    "x = np.array([\"0 - 19\", \"13 - 19\", \"20 - 29\", \"30 - 39\", \"40 - 49\", \"50 - 59\", \"60+\"])\n",
    "y = np.array([0.483, 1.286, 15.658 , 12.468, 7.336, 5.286, 1.455])\n",
    "\n",
    "#add color to the graph\n",
    "plt.bar(x, y, color = 'red')\n",
    "plt.title(\"HIV numbers by age range\", fontsize = 18)\n",
    "plt.show()"
   ]
  },
  {
   "cell_type": "code",
   "execution_count": 26,
   "metadata": {},
   "outputs": [
    {
     "name": "stderr",
     "output_type": "stream",
     "text": [
      "<ipython-input-26-710c6f9ac4fa>:6: MatplotlibDeprecationWarning: Case-insensitive properties were deprecated in 3.3 and support will be removed two minor releases later\n",
      "  plt.text(i, y[i], y[i], ha = 'center',\n"
     ]
    },
    {
     "data": {
      "image/png": "[encoded data removed]",
      "text/plain": [
       "<Figure size 720x288 with 1 Axes>"
      ]
     },
     "metadata": {
      "needs_background": "light"
     },
     "output_type": "display_data"
    }
   ],
   "source": [
    "#Visualize age range and HIV diagnoses with labels \n",
    "              \n",
    "# function to add value labels\n",
    "def addlabels(x,y):\n",
    "    for i in range(len(x)):\n",
    "        plt.text(i, y[i], y[i], ha = 'center',\n",
    "                 Bbox = dict(facecolor = 'yellow', alpha =.8))\n",
    "        \n",
    "if __name__ == '__main__':\n",
    "   \n",
    "    # creating data on which bar chart will be plot\n",
    "    x = [\"0 - 19\", \"13 - 19\", \"20 - 29\", \"30 - 39\", \"40 - 49\", \"50 - 59\", \"60+\"]\n",
    "    y = [0.483, 1.286, 15.658 , 12.468, 7.336, 5.286, 1.455]\n",
    "     \n",
    "    # setting figure size by using figure() function\n",
    "    plt.figure(figsize = (10,4))\n",
    "     \n",
    "    # making the bar chart on the data and adding color type \n",
    "    plt.bar(x, y, color = 'blue')\n",
    "     \n",
    "    # calling the function to add value labels\n",
    "    addlabels(x, y)\n",
    "     \n",
    "    # giving title to the plot and font size \n",
    "    plt.title(\"Average Rate of HIV by Age Range\", fontsize = '14')\n",
    "     \n",
    "    # giving X and Y labels and font size \n",
    "    plt.xlabel(\"Age Range\", fontsize = '12')\n",
    "    plt.ylabel(\"Average Rate\", fontsize = '12')\n",
    "     \n",
    "    # visualizing the plot\n",
    "    plt.show()"
   ]
  },
  {
   "cell_type": "code",
   "execution_count": 27,
   "metadata": {},
   "outputs": [
    {
     "data": {
      "image/png": "[encoded data removed]",
      "text/plain": [
       "<Figure size 432x288 with 1 Axes>"
      ]
     },
     "metadata": {
      "needs_background": "light"
     },
     "output_type": "display_data"
    }
   ],
   "source": [
    "#Visualize race and HIV diagnosis\n",
    "x = np.array([\"Asian/Pacific Islander\", \"Black\", \"Hispanic\", \"Multiracial\", \"Native American\", \"Other/Unknown\", \"White\"])\n",
    "y= np.array([3209, 3137, 3215, 1172, 1188, 3185, 3188])\n",
    "\n",
    "#make horizontal bar chart easier to read race\n",
    "plt.barh(x, y, color = 'green')\n",
    "plt.title(\"HIV Diagnoses by Race/Ethnicity\", fontsize = 18)\n",
    "plt.show()"
   ]
  },
  {
   "cell_type": "code",
   "execution_count": 28,
   "metadata": {},
   "outputs": [
    {
     "name": "stderr",
     "output_type": "stream",
     "text": [
      "<ipython-input-28-e38e9752177e>:6: MatplotlibDeprecationWarning: Case-insensitive properties were deprecated in 3.3 and support will be removed two minor releases later\n",
      "  plt.text(i, x[i], y[i], ha = 'left',\n"
     ]
    },
    {
     "data": {
      "image/png": "[encoded data removed]",
      "text/plain": [
       "<Figure size 864x432 with 1 Axes>"
      ]
     },
     "metadata": {
      "needs_background": "light"
     },
     "output_type": "display_data"
    }
   ],
   "source": [
    " #Visualize race and HIV diagnosis\n",
    "    \n",
    "# function to add value labels and color \n",
    "def addlabels(x,y):\n",
    "    for i in range(len(y)):\n",
    "        plt.text(i, x[i], y[i], ha = 'left',\n",
    "                 Bbox = dict(facecolor = 'cyan', alpha =1.0))\n",
    "        \n",
    "if __name__ == '__main__':\n",
    "   \n",
    "    # creating data on which bar chart will be plot\n",
    "    x = np.array([\"Asian/Pacific Islander\", \"Black\", \"Hispanic\", \"Multiracial\", \"Native American\", \"Other/Unknown\", \"White\"])\n",
    "    y = np.array([3209, 3137, 3215, 1172, 1188, 3185, 3188])\n",
    "     \n",
    "    # setting figure size by using figure() function\n",
    "    plt.figure(figsize = (12,6))\n",
    "     \n",
    "    # making the horizontal bar chart on the data and adding color \n",
    "    plt.barh(x, y, color = 'green')\n",
    "     \n",
    "    # calling the function to add value labels\n",
    "    addlabels(x, y)\n",
    "     \n",
    "    # giving title to the plot and increase font size \n",
    "    plt.title(\"HIV Diagnoses by Race/Ethnicity\", fontsize = '16')\n",
    "     \n",
    "    # giving X and Y labels and adjust font size \n",
    "    plt.xlabel(\"Total Diagnosed\", fontsize = '14')\n",
    "    plt.ylabel(\"Race/Ethnicity\", fontsize = '14')\n",
    "     \n",
    "    # visualizing the plot\n",
    "    plt.show()"
   ]
  },
  {
   "cell_type": "code",
   "execution_count": 29,
   "metadata": {},
   "outputs": [
    {
     "data": {
      "image/png": "[encoded data removed]",
      "text/plain": [
       "<Figure size 720x504 with 1 Axes>"
      ]
     },
     "metadata": {},
     "output_type": "display_data"
    }
   ],
   "source": [
    "#Top neighborhoods with highest HIV rates\n",
    "Priority = ['Group A', 'Group B', 'Group C',\n",
    "           'Group D', 'Group E']\n",
    " \n",
    "data = [459, 458, 457, 456, 455]\n",
    " \n",
    "# Creating pie chart\n",
    "fig = plt.figure(figsize =(10, 7))\n",
    "plt.pie(data, labels = Priority)\n",
    " \n",
    "# show plot\n",
    "plt.show()"
   ]
  },
  {
   "cell_type": "code",
   "execution_count": 30,
   "metadata": {},
   "outputs": [
    {
     "data": {
      "image/png": "[encoded data removed]",
      "text/plain": [
       "<Figure size 720x504 with 1 Axes>"
      ]
     },
     "metadata": {},
     "output_type": "display_data"
    }
   ],
   "source": [
    "#Top neighborhoods with highest HIV rates add labels and explode pieces \n",
    "Priority = ['Group A', 'Group B', 'Group C',\n",
    "           'Group D', 'Group E']\n",
    " \n",
    "data = [459, 458, 457, 456, 455]\n",
    " \n",
    "# Creating explode data how much the slices will explode\n",
    "explode = (0.2, 0.3, 0.2, 0.2, 0.0)\n",
    " \n",
    "# Choosing colors for each piece \n",
    "colors = ( \"orange\", \"cyan\", \"yellow\",\n",
    "          \"grey\", \"violet\", \"beige\")\n",
    " \n",
    "# Wedge properties\n",
    "wp = { 'linewidth' : 1, 'edgecolor' : \"magenta\" }\n",
    " \n",
    "# Creating autocpt arguments for the labels \n",
    "def func(pct, allvalues):\n",
    "    absolute = int(pct / 100.*np.sum(allvalues))\n",
    "    return \"{:.1f}%\\n({:d})\".format(pct, absolute)\n",
    " \n",
    "# Creating plot\n",
    "fig, ax = plt.subplots(figsize =(10, 7))\n",
    "wedges, texts, autotexts = ax.pie(data,\n",
    "                                  autopct = lambda pct: func(pct, data),\n",
    "                                  explode = explode,\n",
    "                                  labels = Priority,\n",
    "                                  shadow = True,\n",
    "                                  colors = colors,\n",
    "                                  startangle = 90,\n",
    "                                  wedgeprops = wp,\n",
    "                                  textprops = dict(color =\"green\"))\n",
    " \n",
    "# Adding legend\n",
    "ax.legend(wedges, Priority,\n",
    "          title =\"Priority Groups\",\n",
    "          loc =\"center left\",\n",
    "          bbox_to_anchor =(1, 0, 0.5, 1))\n",
    " \n",
    "plt.setp(autotexts, size = 12, weight =\"bold\")\n",
    "ax.set_title(\"Top 5 Priority Groups with Highest Rates of HIV\")\n",
    " \n",
    "# show plot\n",
    "plt.show()"
   ]
  }
 ],
 "metadata": {
  "kernelspec": {
   "display_name": "Python 3",
   "language": "python",
   "name": "python3"
  },
  "language_info": {
   "codemirror_mode": {
    "name": "ipython",
    "version": 3
   },
   "file_extension": ".py",
   "mimetype": "text/x-python",
   "name": "python",
   "nbconvert_exporter": "python",
   "pygments_lexer": "ipython3",
   "version": "3.8.5"
  }
 },
 "nbformat": 4,
 "nbformat_minor": 4
}
